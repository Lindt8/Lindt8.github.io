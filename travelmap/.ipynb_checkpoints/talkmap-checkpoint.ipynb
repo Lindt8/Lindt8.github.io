{
 "cells": [
  {
   "cell_type": "markdown",
   "metadata": {},
   "source": [
    "# Leaflet cluster map of talk locations\n",
    "\n",
    "Run this from the _talks/ directory, which contains .md files of all your talks. This scrapes the location YAML field from each .md file, geolocates it with geopy/Nominatim, and uses the getorg library to output data, HTML, and Javascript for a standalone cluster map."
   ]
  },
  {
   "cell_type": "code",
   "execution_count": 1,
   "metadata": {},
   "outputs": [
    {
     "name": "stdout",
     "output_type": "stream",
     "text": [
      "Iywidgets and ipyleaflet support disabled. You must be in a Jupyter notebook to use this feature.\n",
      "Error raised:\n",
      "No module named 'ipyleaflet'\n",
      "Check that you have enabled ipyleaflet in Jupyter with:\n",
      "    jupyter nbextension enable --py ipyleaflet\n"
     ]
    }
   ],
   "source": [
    "import glob\n",
    "import getorg\n",
    "from geopy import Nominatim\n",
    "from time import sleep"
   ]
  },
  {
   "cell_type": "code",
   "execution_count": 2,
   "metadata": {},
   "outputs": [],
   "source": [
    "#g = glob.glob(\"*.md\")"
   ]
  },
  {
   "cell_type": "code",
   "execution_count": 3,
   "metadata": {},
   "outputs": [],
   "source": [
    "geocoder = Nominatim()\n",
    "location_dict = {}\n",
    "location = \"\"\n",
    "permalink = \"\"\n",
    "title = \"\""
   ]
  },
  {
   "cell_type": "code",
   "execution_count": 4,
   "metadata": {},
   "outputs": [
    {
     "name": "stdout",
     "output_type": "stream",
     "text": [
      "\tfailed, trying again...\n",
      "San Antonio, TX, USA \n",
      " San Antonio, Bexar County, Texas, United States of America\n",
      "\n",
      "            'Orlando, FL, USA',\n",
      "            'Atlanta, GA, USA',\n",
      "            'Washington D.C., USA',\n",
      "            '98 Rochester St, Upton, NY 11973, United States',\n",
      "            'New York City, NY, USA',\n",
      "            '1050 Walnut Street, Boulder, CO 80302',\n",
      "            '1 Nasa Dr, Hampton, VA 23666, United States',\n",
      "            '828 Paseo De Peralta, Santa Fe, NM 87501',\n",
      "            'Hitachi-shi, Ibaraki-ken, Japan',\n",
      "            'Tokyo, Japan',\n",
      "            'Kawagoe, Saitama-ken, Japan',\n",
      "            'Nikko-shi, Tochigi-ken, Japan',\n",
      "            'Kushiro-shi, Hokkaido, Japan',\n",
      "            'Teshikaga, Kawakami, Hokkaido, Japan',\n",
      "            'Shirogane, Biei, Kamikawa, Hokkaido, Japan',\n",
      "            'Asahikawa-shi, Hokkaido, Japan',\n",
      "            'Sapporo-shi, Hokkaido, Japan',\n",
      "            'Yoichi-shi, Hokkaido, Japan',\n",
      "            'Otaru-shi, Hokkaido, Japan',\n",
      "            'Hakodate-shi, Hokkaido, Japan',\n",
      "            'Gofuku, Toyama-shi, Toyama-ken, Japan',\n",
      "            'Tateyama, Nakaniikawa, Toyama-ken, Japan',\n",
      "            'CEA, Saclay, France',\n",
      "            'Paris, France',\n",
      "            'Boeretang 200, 2400 Mol, Belgium',\n",
      "            'Ghent, Belgium',\n",
      "            'Bruges, Belgium',\n",
      "            'Aizuwakamatsu, Fukushima-ken, Japan',\n",
      "            'Fujikawaguchiko, Minamitsuru, Yamanashi-ken, Japan',\n",
      "            'Mito-shi, Ibaraki-ken, Japan',\n",
      "            Oarai-cho, Ibaraki-ken, Japan \n",
      " None\n",
      "Nasu-cho, Tochigi-ken, Japan \n",
      " None\n"
     ]
    }
   ],
   "source": [
    "'''\n",
    "for file in g:\n",
    "    with open(file, 'r') as f:\n",
    "        lines = f.read()\n",
    "        if lines.find('location: \"') > 1:\n",
    "            loc_start = lines.find('location: \"') + 11\n",
    "            lines_trim = lines[loc_start:]\n",
    "            loc_end = lines_trim.find('\"')\n",
    "            location = lines_trim[:loc_end]\n",
    "                            \n",
    "           \n",
    "        location_dict[location] = geocoder.geocode(location)\n",
    "        print(location, \"\\n\", location_dict[location])\n",
    "'''\n",
    "# Warning, one may need to run this cell numerous times; it likes to randomly time out...\n",
    "loc_list = ['San Antonio, TX, USA',\n",
    "#            'Orlando, FL, USA',\n",
    "#            'Atlanta, GA, USA',\n",
    "#            'Washington D.C., USA',\n",
    "#            '98 Rochester St, Upton, NY 11973, United States',\n",
    "#            'New York City, NY, USA',\n",
    "#            '1050 Walnut Street, Boulder, CO 80302',\n",
    "#            '1 Nasa Dr, Hampton, VA 23666, United States',\n",
    "#            '828 Paseo De Peralta, Santa Fe, NM 87501',\n",
    "#            'Hitachi-shi, Ibaraki-ken, Japan',\n",
    "#            'Tokyo, Japan',\n",
    "#            'Kawagoe, Saitama-ken, Japan',\n",
    "            'Nikko-shi, Tochigi-ken, Japan',\n",
    "#            'Kushiro-shi, Hokkaido, Japan',\n",
    "#            'Teshikaga, Kawakami, Hokkaido, Japan',\n",
    "            'Shirogane, Biei, Kamikawa, Hokkaido, Japan',\n",
    "            'Asahikawa-shi, Hokkaido, Japan',\n",
    "            'Sapporo-shi, Hokkaido, Japan',\n",
    "            'Yoichi-shi, Hokkaido, Japan',\n",
    "            'Otaru-shi, Hokkaido, Japan',\n",
    "            'Hakodate-shi, Hokkaido, Japan',\n",
    "            'Gofuku, Toyama-shi, Toyama-ken, Japan',\n",
    "            'Tateyama, Nakaniikawa, Toyama-ken, Japan',\n",
    "            'CEA, Saclay, France',\n",
    "            'Paris, France',\n",
    "            'Boeretang 200, 2400 Mol, Belgium',\n",
    "            'Ghent, Belgium',\n",
    "            'Bruges, Belgium',\n",
    "            'Aizuwakamatsu, Fukushima-ken, Japan',\n",
    "            'Fujikawaguchiko, Minamitsuru, Yamanashi-ken, Japan',\n",
    "            'Mito-shi, Ibaraki-ken, Japan',\n",
    "            'Oarai-cho, Ibaraki-ken, Japan',\n",
    "            'Nasu-cho, Tochigi-ken, Japan'\n",
    "            ]\n",
    "\n",
    "\n",
    "for i in range(len(loc_list)):\n",
    "    location = loc_list[i]\n",
    "    still_attempting = True\n",
    "    while still_attempting:\n",
    "        try:\n",
    "            location_dict[location] = geocoder.geocode(location)\n",
    "            still_attempting = False\n",
    "        except:\n",
    "            print('\\tfailed, trying again...')\n",
    "        sleep(1.2)\n",
    "    print(location, \"\\n\", location_dict[location])"
   ]
  },
  {
   "cell_type": "code",
   "execution_count": 26,
   "metadata": {},
   "outputs": [
    {
     "data": {
      "text/plain": [
       "'Written map to talkmap/'"
      ]
     },
     "execution_count": 26,
     "metadata": {},
     "output_type": "execute_result"
    }
   ],
   "source": [
    "m = getorg.orgmap.create_map_obj()\n",
    "getorg.orgmap.output_html_cluster_map(location_dict, folder_name=\"talkmap\", hashed_usernames=False)"
   ]
  },
  {
   "cell_type": "code",
   "execution_count": null,
   "metadata": {},
   "outputs": [],
   "source": []
  }
 ],
 "metadata": {
  "anaconda-cloud": {},
  "kernelspec": {
   "display_name": "Python 3",
   "language": "python",
   "name": "python3"
  },
  "language_info": {
   "codemirror_mode": {
    "name": "ipython",
    "version": 3
   },
   "file_extension": ".py",
   "mimetype": "text/x-python",
   "name": "python",
   "nbconvert_exporter": "python",
   "pygments_lexer": "ipython3",
   "version": "3.6.4"
  }
 },
 "nbformat": 4,
 "nbformat_minor": 1
}
