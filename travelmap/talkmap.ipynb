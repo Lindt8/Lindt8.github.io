{
 "cells": [
  {
   "cell_type": "markdown",
   "metadata": {},
   "source": [
    "# Leaflet cluster map of talk locations\n",
    "\n",
    "Run this from the _talks/ directory, which contains .md files of all your talks. This scrapes the location YAML field from each .md file, geolocates it with geopy/Nominatim, and uses the getorg library to output data, HTML, and Javascript for a standalone cluster map."
   ]
  },
  {
   "cell_type": "code",
   "execution_count": 3,
   "metadata": {},
   "outputs": [],
   "source": [
    "import glob\n",
    "import getorg\n",
    "from geopy import Nominatim"
   ]
  },
  {
   "cell_type": "code",
   "execution_count": 4,
   "metadata": {},
   "outputs": [],
   "source": [
    "#g = glob.glob(\"*.md\")"
   ]
  },
  {
   "cell_type": "code",
   "execution_count": 5,
   "metadata": {},
   "outputs": [],
   "source": [
    "geocoder = Nominatim()\n",
    "location_dict = {}\n",
    "location = \"\"\n",
    "permalink = \"\"\n",
    "title = \"\""
   ]
  },
  {
   "cell_type": "code",
   "execution_count": 33,
   "metadata": {},
   "outputs": [
    {
     "name": "stdout",
     "output_type": "stream",
     "text": [
      "San Antonio, TX, USA \n",
      " San Antonio, Bexar County, Texas, United States of America\n",
      "Orlando, FL, USA \n",
      " Orlando, Orange County, Florida, 32801, United States of America\n",
      "Washington D.C., USA \n",
      " Washington, District of Columbia, 20500, United States of America\n",
      "98 Rochester St, Upton, NY 11973, United States \n",
      " Rochester Street, Brookhaven National Laboratory, Upton, Suffolk County, New York, 11973, United States of America\n",
      "New York City, NY, USA \n",
      " New York, United States of America\n",
      "1050 Walnut Street, Boulder, CO 80302 \n",
      " Southwest Research Institute, 1050, Walnut Street, The Hill, Ara, Boulder, Boulder County, Colorado, 80302, United States of America\n",
      "1 Nasa Dr, Hampton, VA 23666, United States \n",
      " Nasa Drive, Riverdale, Hampton, Hampton City, Virginia, 23681, United States of America\n",
      "828 Paseo De Peralta, Santa Fe, NM 87501 \n",
      " Bar Alto, 828, Paseo de Peralta, Santa Fe, Santa Fe County, New Mexico, 87501, United States of America\n",
      "Hitachi-shi, Ibaraki-ken, Japan \n",
      " 日立市, 茨城県, 日本 (Japan)\n",
      "Tokyo, Japan \n",
      " 東京都, 日本 (Japan)\n",
      "Kawagoe, Saitama-ken, Japan \n",
      " 川越市, 埼玉県, 350-0065, 日本 (Japan)\n",
      "Hokkaido, Japan \n",
      " 北海道, 足寄町, 足寄郡, 十勝総合振興局, 北海道, 日本 (Japan)\n",
      "Gofuku, Toyama-shi, Toyama-ken, Japan \n",
      " V-drug 五福店, 富山庄川線, 五福, 婦中町, 富山市, 富山県, 930-0887, 日本 (Japan)\n",
      "Tateyama, Nakaniikawa, Toyama-ken, Japan \n",
      " 立山町, 中新川郡, 富山県, 日本 (Japan)\n",
      "CEA, Saclay, France \n",
      " CEA Saclay, Ferme d'Orsigny, Saclay, Palaiseau, Essonne, Île-de-France, France métropolitaine, 91400, France\n",
      "Paris, France \n",
      " Paris, Île-de-France, France métropolitaine, France\n",
      "Boeretang 200, 2400 Mol, Belgium \n",
      " SCK•CEN and Vito Reception (HIG), 200, Boeretang, Millegem, Mol, Antwerpen, Vlaanderen, 2400, België - Belgique - Belgien\n",
      "Ghent, Belgium \n",
      " Gent, Oost-Vlaanderen, Vlaanderen, België - Belgique - Belgien\n",
      "Bruges, Belgium \n",
      " Brugge, West-Vlaanderen, Vlaanderen, België - Belgique - Belgien\n",
      "Aizuwakamatsu, Fukushima-ken, Japan \n",
      " 会津若松市, 福島県, 日本 (Japan)\n",
      "Fujikawaguchiko, Minamitsuru, Yamanashi-ken, Japan \n",
      " 富士河口湖町, 南都留郡, 山梨県, 日本 (Japan)\n",
      "Mito-shi, Ibaraki-ken, Japan \n",
      " 水戸市, 茨城県, 日本 (Japan)\n"
     ]
    }
   ],
   "source": [
    "'''\n",
    "for file in g:\n",
    "    with open(file, 'r') as f:\n",
    "        lines = f.read()\n",
    "        if lines.find('location: \"') > 1:\n",
    "            loc_start = lines.find('location: \"') + 11\n",
    "            lines_trim = lines[loc_start:]\n",
    "            loc_end = lines_trim.find('\"')\n",
    "            location = lines_trim[:loc_end]\n",
    "                            \n",
    "           \n",
    "        location_dict[location] = geocoder.geocode(location)\n",
    "        print(location, \"\\n\", location_dict[location])\n",
    "'''\n",
    "# Warning, one may need to run this cell numerous times; it likes to randomly time out...\n",
    "loc_list = ['San Antonio, TX, USA',\n",
    "            'Orlando, FL, USA',\n",
    "            'Washington D.C., USA',\n",
    "            '98 Rochester St, Upton, NY 11973, United States',\n",
    "            'New York City, NY, USA',\n",
    "            '1050 Walnut Street, Boulder, CO 80302',\n",
    "            '1 Nasa Dr, Hampton, VA 23666, United States',\n",
    "            '828 Paseo De Peralta, Santa Fe, NM 87501',\n",
    "            'Hitachi-shi, Ibaraki-ken, Japan',\n",
    "            'Tokyo, Japan',\n",
    "            'Kawagoe, Saitama-ken, Japan',\n",
    "            'Hokkaido, Japan',\n",
    "            'Gofuku, Toyama-shi, Toyama-ken, Japan',\n",
    "            'Tateyama, Nakaniikawa, Toyama-ken, Japan',\n",
    "            'CEA, Saclay, France',\n",
    "            'Paris, France',\n",
    "            'Boeretang 200, 2400 Mol, Belgium',\n",
    "            'Ghent, Belgium',\n",
    "            'Bruges, Belgium',\n",
    "            'Aizuwakamatsu, Fukushima-ken, Japan',\n",
    "            'Fujikawaguchiko, Minamitsuru, Yamanashi-ken, Japan',\n",
    "            'Mito-shi, Ibaraki-ken, Japan'\n",
    "            ]\n",
    "\n",
    "for i in range(len(loc_list)):\n",
    "    location = loc_list[i]\n",
    "    location_dict[location] = geocoder.geocode(location)\n",
    "    print(location, \"\\n\", location_dict[location])"
   ]
  },
  {
   "cell_type": "code",
   "execution_count": 34,
   "metadata": {},
   "outputs": [
    {
     "data": {
      "text/plain": [
       "'Written map to talkmap/'"
      ]
     },
     "execution_count": 34,
     "metadata": {},
     "output_type": "execute_result"
    }
   ],
   "source": [
    "m = getorg.orgmap.create_map_obj()\n",
    "getorg.orgmap.output_html_cluster_map(location_dict, folder_name=\"talkmap\", hashed_usernames=False)"
   ]
  },
  {
   "cell_type": "code",
   "execution_count": null,
   "metadata": {},
   "outputs": [],
   "source": []
  }
 ],
 "metadata": {
  "anaconda-cloud": {},
  "kernelspec": {
   "display_name": "Python 3",
   "language": "python",
   "name": "python3"
  },
  "language_info": {
   "codemirror_mode": {
    "name": "ipython",
    "version": 3
   },
   "file_extension": ".py",
   "mimetype": "text/x-python",
   "name": "python",
   "nbconvert_exporter": "python",
   "pygments_lexer": "ipython3",
   "version": "3.6.4"
  }
 },
 "nbformat": 4,
 "nbformat_minor": 1
}
