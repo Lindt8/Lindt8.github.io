{
 "cells": [
  {
   "cell_type": "markdown",
   "metadata": {},
   "source": [
    "# Leaflet cluster map of talk locations\n",
    "\n",
    "Run this from the _talks/ directory, which contains .md files of all your talks. This scrapes the location YAML field from each .md file, geolocates it with geopy/Nominatim, and uses the getorg library to output data, HTML, and Javascript for a standalone cluster map."
   ]
  },
  {
   "cell_type": "code",
   "execution_count": 1,
   "metadata": {},
   "outputs": [
    {
     "name": "stdout",
     "output_type": "stream",
     "text": [
      "Iywidgets and ipyleaflet support disabled. You must be in a Jupyter notebook to use this feature.\n",
      "Error raised:\n",
      "No module named 'ipyleaflet'\n",
      "Check that you have enabled ipyleaflet in Jupyter with:\n",
      "    jupyter nbextension enable --py ipyleaflet\n"
     ]
    }
   ],
   "source": [
    "import glob\n",
    "import getorg\n",
    "from geopy import Nominatim\n",
    "from time import sleep"
   ]
  },
  {
   "cell_type": "code",
   "execution_count": 2,
   "metadata": {},
   "outputs": [],
   "source": [
    "#g = glob.glob(\"*.md\")"
   ]
  },
  {
   "cell_type": "code",
   "execution_count": 3,
   "metadata": {},
   "outputs": [],
   "source": [
    "geocoder = Nominatim()\n",
    "location_dict = {}\n",
    "location = \"\"\n",
    "permalink = \"\"\n",
    "title = \"\""
   ]
  },
  {
   "cell_type": "code",
   "execution_count": 4,
   "metadata": {},
   "outputs": [
    {
     "name": "stdout",
     "output_type": "stream",
     "text": [
      "San Antonio, TX, USA \n",
      " San Antonio, Bexar County, Texas, United States\n",
      "Orlando, FL, USA \n",
      " Orlando, Orange County, Florida, United States\n",
      "Atlanta, GA, USA \n",
      " Atlanta, Fulton County, Georgia, United States\n",
      "Washington D.C., USA \n",
      " Washington, District of Columbia, United States\n",
      "1 Bethel Valley Rd, Oak Ridge, TN 37830, United States \n",
      " 1, Bethel Valley Rd, Scarboro, Oak Ridge, Anderson County, Tennessee, 37830, United States\n",
      "Martin Rd SW, Huntsville, AL 35808 \n",
      " Martin Road Southwest, Huntsville, Madison County, Alabama, 35824, United States\n",
      "500 S State St, Ann Arbor, MI 48109 \n",
      " University of Michigan, 500, South State Street, Ann Arbor, Washtenaw County, Michigan, 48109, United States\n",
      "1050 Walnut Street, Boulder, CO 80302 \n",
      " Southwest Research Institute, 1050, Walnut Street, Boulder, Boulder County, Colorado, 80302, United States\n",
      "98 Rochester St, Upton, NY 11973, United States \n",
      " Rochester Street, Brookhaven National Laboratory, Upton, Suffolk County, New York, 11973, United States\n",
      "New York City, NY, USA \n",
      " New York, United States\n",
      "1 Nasa Dr, Hampton, VA 23666, United States \n",
      " Nasa Drive, Hampton, Virginia, 23665, United States\n",
      "828 Paseo De Peralta, Santa Fe, NM 87501 \n",
      " Bar Alto, 828, Paseo de Peralta, Santa Fe, Santa Fe County, New Mexico, 87501, United States\n",
      "Hitachi-shi, Ibaraki-ken, Japan \n",
      " 日立市, 茨城県, 日本\n",
      "Tokyo, Japan \n",
      " 東京都, 日本\n",
      "Kawagoe, Saitama-ken, Japan \n",
      " 川越市, 埼玉県, 日本\n",
      "Nikko-shi, Tochigi-ken, Japan \n",
      " 日光市, 栃木県, 日本\n",
      "Kushiro-shi, Hokkaido, Japan \n",
      " 釧路市, 釧路総合振興局, 北海道, 日本\n",
      "Teshikaga, Kawakami, Hokkaido, Japan \n",
      " 弟子屈町, 川上郡, 釧路総合振興局, 北海道, 日本\n",
      "Shirogane, Biei, Kamikawa, Hokkaido, Japan \n",
      " 青い池, 美瑛町, 上川郡(石狩国), 上川総合振興局, 北海道, 日本\n",
      "Asahikawa-shi, Hokkaido, Japan \n",
      " 旭川市, 上川総合振興局, 北海道, 日本\n",
      "Sapporo-shi, Hokkaido, Japan \n",
      " 札幌市, 石狩振興局, 北海道, 日本\n",
      "Yoichi-shi, Hokkaido, Japan \n",
      " 余市町, 余市郡, 後志総合振興局, 北海道, 日本\n",
      "Otaru-shi, Hokkaido, Japan \n",
      " 小樽市, 後志総合振興局, 北海道, 日本\n",
      "Hakodate-shi, Hokkaido, Japan \n",
      " 函館市, 渡島総合振興局, 北海道, 日本\n",
      "Gofuku, Toyama-shi, Toyama-ken, Japan \n",
      " 五福, 富山市, 富山県, 930-0887, 日本\n",
      "Tateyama, Nakaniikawa, Toyama-ken, Japan \n",
      " 立山町, 中新川郡, 富山県, 日本\n",
      "CEA, Saclay, France \n",
      " Cogestar 3 Centre CEA de Saclay, Route des Grandes Piles, Saclay, Palaiseau, Essonne, Île-de-France, France métropolitaine, 91400, France\n",
      "Paris, France \n",
      " Paris, Île-de-France, France métropolitaine, France\n",
      "Boeretang 200, 2400 Mol, Belgium \n",
      " SCK•CEN and Vito Reception (HIG), 200, Boeretang, Donk, Mol, Turnhout, Antwerpen, Vlaanderen, 2400, België / Belgique / Belgien\n",
      "Ghent, Belgium \n",
      " Gent, Oost-Vlaanderen, Vlaanderen, België / Belgique / Belgien\n",
      "Bruges, Belgium \n",
      " Brugge, West-Vlaanderen, Vlaanderen, België / Belgique / Belgien\n",
      "Aizuwakamatsu, Fukushima-ken, Japan \n",
      " 会津若松市, 福島県, 日本\n",
      "Fujikawaguchiko, Minamitsuru, Yamanashi-ken, Japan \n",
      " 富士河口湖町, 南都留郡, 山梨県, 日本\n",
      "Mito-shi, Ibaraki-ken, Japan \n",
      " 水戸市, 茨城県, 日本\n",
      "Oarai, Ibaraki-ken, Japan \n",
      " 大洗町, 東茨城郡, 茨城県, 日本\n",
      "Nasu, Tochigi-ken, Japan \n",
      " 那須町, 那須郡, 栃木県, 日本\n",
      "Fukuroda Falls, Daigo, Ibaraki, Japan \n",
      " 袋田の滝, 大子町, 久慈郡, 茨城県, 日本\n",
      "Zenkoji Temple, Nagano, Japan \n",
      " 善光寺, 長野信濃線, 旭町, 長野市, 長野県, 380-0801, 日本\n",
      "Shibu Onsen, Nagano-ken, Japan \n",
      " Shibu Onsen, 国道292号, 安代, 山ノ内町, 下高井郡, 長野県, 381-042, 日本\n",
      "Jigokudani, Nagano-ken, Japan \n",
      " 地獄谷温泉後楽館, 国道292号, 丸池, 山ノ内町, 下高井郡, 長野県, 381-0401, 日本\n",
      "Asakusa, Tokyo, Japan \n",
      " 浅草, 台東区, 東京都, 日本\n",
      "Tullahoma, TN, USA \n",
      " Tullahoma, Coffee County, Tennessee, 37388, United States\n",
      "Knoxville, TN, USA \n",
      " Knoxville, Knox County, Tennessee, United States\n",
      "Tokai-mura, Naka-gun, Ibaraki-ken, Japan \n",
      " 東海村, 那珂郡, 茨城県, 日本\n"
     ]
    }
   ],
   "source": [
    "'''\n",
    "for file in g:\n",
    "    with open(file, 'r') as f:\n",
    "        lines = f.read()\n",
    "        if lines.find('location: \"') > 1:\n",
    "            loc_start = lines.find('location: \"') + 11\n",
    "            lines_trim = lines[loc_start:]\n",
    "            loc_end = lines_trim.find('\"')\n",
    "            location = lines_trim[:loc_end]\n",
    "                            \n",
    "           \n",
    "        location_dict[location] = geocoder.geocode(location)\n",
    "        print(location, \"\\n\", location_dict[location])\n",
    "'''\n",
    "# Warning, one may need to run this cell numerous times; it likes to randomly time out...\n",
    "loc_list = [\n",
    "          # Travel destinations  \n",
    "            'San Antonio, TX, USA',\n",
    "            'Orlando, FL, USA',\n",
    "            'Atlanta, GA, USA',\n",
    "            'Washington D.C., USA',\n",
    "            '1 Bethel Valley Rd, Oak Ridge, TN 37830, United States',\n",
    "            'Martin Rd SW, Huntsville, AL 35808',\n",
    "            '500 S State St, Ann Arbor, MI 48109',\n",
    "            '1050 Walnut Street, Boulder, CO 80302',\n",
    "            '98 Rochester St, Upton, NY 11973, United States',\n",
    "            'New York City, NY, USA',\n",
    "            '1 Nasa Dr, Hampton, VA 23666, United States',\n",
    "            '828 Paseo De Peralta, Santa Fe, NM 87501',\n",
    "            'Hitachi-shi, Ibaraki-ken, Japan',\n",
    "            'Tokyo, Japan',\n",
    "            'Kawagoe, Saitama-ken, Japan',\n",
    "            'Nikko-shi, Tochigi-ken, Japan',\n",
    "            'Kushiro-shi, Hokkaido, Japan',\n",
    "            'Teshikaga, Kawakami, Hokkaido, Japan',\n",
    "            'Shirogane, Biei, Kamikawa, Hokkaido, Japan',\n",
    "            'Asahikawa-shi, Hokkaido, Japan',\n",
    "            'Sapporo-shi, Hokkaido, Japan',\n",
    "            'Yoichi-shi, Hokkaido, Japan',\n",
    "            'Otaru-shi, Hokkaido, Japan',\n",
    "            'Hakodate-shi, Hokkaido, Japan',\n",
    "            'Gofuku, Toyama-shi, Toyama-ken, Japan',\n",
    "            'Tateyama, Nakaniikawa, Toyama-ken, Japan',\n",
    "            'CEA, Saclay, France',\n",
    "            'Paris, France',\n",
    "            'Boeretang 200, 2400 Mol, Belgium',\n",
    "            'Ghent, Belgium',\n",
    "            'Bruges, Belgium',\n",
    "            'Aizuwakamatsu, Fukushima-ken, Japan',\n",
    "            'Fujikawaguchiko, Minamitsuru, Yamanashi-ken, Japan',\n",
    "            'Mito-shi, Ibaraki-ken, Japan',\n",
    "            'Oarai, Ibaraki-ken, Japan',\n",
    "            'Nasu, Tochigi-ken, Japan',\n",
    "            'Fukuroda Falls, Daigo, Ibaraki, Japan',\n",
    "            'Zenkoji Temple, Nagano, Japan',\n",
    "            'Shibu Onsen, Nagano-ken, Japan',\n",
    "            'Jigokudani, Nagano-ken, Japan',\n",
    "            'Asakusa, Tokyo, Japan',\n",
    "            \n",
    "          # Places I have lived\n",
    "            'Tullahoma, TN, USA',\n",
    "            'Knoxville, TN, USA',\n",
    "            'Tokai-mura, Naka-gun, Ibaraki-ken, Japan'\n",
    "            ]\n",
    "\n",
    "\n",
    "for i in range(len(loc_list)):\n",
    "    location = loc_list[i]\n",
    "    still_attempting = True\n",
    "    while still_attempting:\n",
    "        try:\n",
    "            location_dict[location] = geocoder.geocode(location)\n",
    "            still_attempting = False\n",
    "        except:\n",
    "            print('\\tfailed, trying again...')\n",
    "        sleep(1.2)\n",
    "    print(location, \"\\n\", location_dict[location])"
   ]
  },
  {
   "cell_type": "code",
   "execution_count": 5,
   "metadata": {},
   "outputs": [
    {
     "data": {
      "text/plain": [
       "'Written map to talkmap/'"
      ]
     },
     "execution_count": 5,
     "metadata": {},
     "output_type": "execute_result"
    }
   ],
   "source": [
    "m = getorg.orgmap.create_map_obj()\n",
    "getorg.orgmap.output_html_cluster_map(location_dict, folder_name=\"talkmap\", hashed_usernames=False)"
   ]
  },
  {
   "cell_type": "code",
   "execution_count": null,
   "metadata": {},
   "outputs": [],
   "source": []
  }
 ],
 "metadata": {
  "anaconda-cloud": {},
  "kernelspec": {
   "display_name": "Python 3",
   "language": "python",
   "name": "python3"
  },
  "language_info": {
   "codemirror_mode": {
    "name": "ipython",
    "version": 3
   },
   "file_extension": ".py",
   "mimetype": "text/x-python",
   "name": "python",
   "nbconvert_exporter": "python",
   "pygments_lexer": "ipython3",
   "version": "3.6.4"
  }
 },
 "nbformat": 4,
 "nbformat_minor": 1
}
