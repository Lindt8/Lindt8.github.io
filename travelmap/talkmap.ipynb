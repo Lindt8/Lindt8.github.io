{
 "cells": [
  {
   "cell_type": "markdown",
   "metadata": {},
   "source": [
    "# Leaflet cluster map of talk locations\n",
    "\n",
    "Run this from the _talks/ directory, which contains .md files of all your talks. This scrapes the location YAML field from each .md file, geolocates it with geopy/Nominatim, and uses the getorg library to output data, HTML, and Javascript for a standalone cluster map."
   ]
  },
  {
   "cell_type": "code",
   "execution_count": 16,
   "metadata": {},
   "outputs": [],
   "source": [
    "import glob\n",
    "import getorg\n",
    "from geopy import Nominatim\n",
    "from time import sleep"
   ]
  },
  {
   "cell_type": "code",
   "execution_count": 17,
   "metadata": {},
   "outputs": [],
   "source": [
    "#g = glob.glob(\"*.md\")"
   ]
  },
  {
   "cell_type": "code",
   "execution_count": 18,
   "metadata": {},
   "outputs": [],
   "source": [
    "geocoder = Nominatim()\n",
    "location_dict = {}\n",
    "location = \"\"\n",
    "permalink = \"\"\n",
    "title = \"\""
   ]
  },
  {
   "cell_type": "code",
   "execution_count": null,
   "metadata": {},
   "outputs": [
    {
     "name": "stdout",
     "output_type": "stream",
     "text": [
      "San Antonio, TX, USA \n",
      " San Antonio, Bexar County, Texas, United States of America\n",
      "Orlando, FL, USA \n",
      " Orlando, Orange County, Florida, 32801, United States of America\n",
      "Washington D.C., USA \n",
      " Washington, District of Columbia, 20500, United States of America\n",
      "98 Rochester St, Upton, NY 11973, United States \n",
      " Rochester Street, Brookhaven National Laboratory, Upton, Suffolk County, New York, 11973, United States of America\n",
      "New York City, NY, USA \n",
      " New York, United States of America\n",
      "1050 Walnut Street, Boulder, CO 80302 \n",
      " Southwest Research Institute, 1050, Walnut Street, The Hill, Ara, Boulder, Boulder County, Colorado, 80302, United States of America\n",
      "1 Nasa Dr, Hampton, VA 23666, United States \n",
      " Nasa Drive, Riverdale, Hampton, Hampton City, Virginia, 23681, United States of America\n",
      "828 Paseo De Peralta, Santa Fe, NM 87501 \n",
      " Bar Alto, 828, Paseo de Peralta, Santa Fe, Santa Fe County, New Mexico, 87501, United States of America\n"
     ]
    }
   ],
   "source": [
    "'''\n",
    "for file in g:\n",
    "    with open(file, 'r') as f:\n",
    "        lines = f.read()\n",
    "        if lines.find('location: \"') > 1:\n",
    "            loc_start = lines.find('location: \"') + 11\n",
    "            lines_trim = lines[loc_start:]\n",
    "            loc_end = lines_trim.find('\"')\n",
    "            location = lines_trim[:loc_end]\n",
    "                            \n",
    "           \n",
    "        location_dict[location] = geocoder.geocode(location)\n",
    "        print(location, \"\\n\", location_dict[location])\n",
    "'''\n",
    "# Warning, one may need to run this cell numerous times; it likes to randomly time out...\n",
    "loc_list = ['San Antonio, TX, USA',\n",
    "            'Orlando, FL, USA',\n",
    "            'Washington D.C., USA',\n",
    "            '98 Rochester St, Upton, NY 11973, United States',\n",
    "            'New York City, NY, USA',\n",
    "            '1050 Walnut Street, Boulder, CO 80302',\n",
    "            '1 Nasa Dr, Hampton, VA 23666, United States',\n",
    "            '828 Paseo De Peralta, Santa Fe, NM 87501',\n",
    "            'Hitachi-shi, Ibaraki-ken, Japan',\n",
    "            'Tokyo, Japan',\n",
    "            'Kawagoe, Saitama-ken, Japan',\n",
    "            'Kushiro-shi, Hokkaido, Japan',\n",
    "            'Teshikaga, Kawakami, Hokkaido, Japan',\n",
    "            'Shirogane, Biei, Kamikawa, Hokkaido, Japan',\n",
    "            'Asahikawa-shi, Hokkaido, Japan',\n",
    "            'Sapporo-shi, Hokkaido, Japan',\n",
    "            'Yoichi-shi, Hokkaido, Japan',\n",
    "            'Otaru-shi, Hokkaido, Japan',\n",
    "            'Hakodate-shi, Hokkaido, Japan',\n",
    "            'Gofuku, Toyama-shi, Toyama-ken, Japan',\n",
    "            'Tateyama, Nakaniikawa, Toyama-ken, Japan',\n",
    "            'CEA, Saclay, France',\n",
    "            'Paris, France',\n",
    "            'Boeretang 200, 2400 Mol, Belgium',\n",
    "            'Ghent, Belgium',\n",
    "            'Bruges, Belgium',\n",
    "            'Aizuwakamatsu, Fukushima-ken, Japan',\n",
    "            'Fujikawaguchiko, Minamitsuru, Yamanashi-ken, Japan',\n",
    "            'Mito-shi, Ibaraki-ken, Japan'\n",
    "            ]\n",
    "\n",
    "\n",
    "for i in range(len(loc_list)):\n",
    "    location = loc_list[i]\n",
    "    still_attempting = True\n",
    "    while still_attempting:\n",
    "        try:\n",
    "            location_dict[location] = geocoder.geocode(location)\n",
    "            still_attempting = False\n",
    "        except:\n",
    "            print('\\tfailed, trying again...')\n",
    "        sleep(1.2)\n",
    "    print(location, \"\\n\", location_dict[location])"
   ]
  },
  {
   "cell_type": "code",
   "execution_count": 7,
   "metadata": {},
   "outputs": [
    {
     "data": {
      "text/plain": [
       "'Written map to talkmap/'"
      ]
     },
     "execution_count": 7,
     "metadata": {},
     "output_type": "execute_result"
    }
   ],
   "source": [
    "m = getorg.orgmap.create_map_obj()\n",
    "getorg.orgmap.output_html_cluster_map(location_dict, folder_name=\"talkmap\", hashed_usernames=False)"
   ]
  },
  {
   "cell_type": "code",
   "execution_count": null,
   "metadata": {},
   "outputs": [],
   "source": []
  }
 ],
 "metadata": {
  "anaconda-cloud": {},
  "kernelspec": {
   "display_name": "Python 3",
   "language": "python",
   "name": "python3"
  },
  "language_info": {
   "codemirror_mode": {
    "name": "ipython",
    "version": 3
   },
   "file_extension": ".py",
   "mimetype": "text/x-python",
   "name": "python",
   "nbconvert_exporter": "python",
   "pygments_lexer": "ipython3",
   "version": "3.6.4"
  }
 },
 "nbformat": 4,
 "nbformat_minor": 1
}
